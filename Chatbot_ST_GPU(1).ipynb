{
 "cells": [
  {
   "cell_type": "code",
   "execution_count": 93,
   "metadata": {},
   "outputs": [],
   "source": [
    "import pandas as pd"
   ]
  },
  {
   "cell_type": "code",
   "execution_count": 94,
   "metadata": {},
   "outputs": [],
   "source": [
    "minimal_train=[\n",
    "    {\n",
    "        \"personality\": [\n",
    "            \"i like computers .\",\n",
    "            \"i like reading books .\",\n",
    "            \"i like talking to chatbots .\",\n",
    "            \"i love listening to classical music .\"\n",
    "        ],\n",
    "        \"utterances\": [\n",
    "            {\n",
    "                \"candidates\": [\n",
    "                    \"i try to wear all black every day . it makes me feel comfortable .\",\n",
    "                    \"well nursing stresses you out so i wish luck with sister\",\n",
    "                    \"yeah just want to pick up nba nfl getting old\",\n",
    "                    \"i really like celine dion . what about you ?\",\n",
    "                    \"no . i live near farms .\",\n",
    "                    \"mother taught me to cook ! we are looking for an exterminator .\",\n",
    "                    \"i enjoy romantic movie . what is your favorite season ? mine is summer .\",\n",
    "                    \"editing photos takes a lot of work .\",\n",
    "                    \"you must be very fast . hunting is one of my favorite hobbies .\",\n",
    "                    \"hi there . i'm feeling great! how about you ?\"\n",
    "                ],\n",
    "                \"history\": [\n",
    "                    \"hi , how are you ?\"\n",
    "                ]\n",
    "            },\n",
    "            {\n",
    "                \"candidates\": [\n",
    "                    \"i have trouble getting along with family .\",\n",
    "                    \"i live in texas , what kind of stuff do you do in \",\n",
    "                    \"toronto ?\",\n",
    "                    \"that's so unique ! veganism and line dancing usually don't mix !\",\n",
    "                    \"no , it isn't that big . do you travel a lot\",\n",
    "                    \"that's because they are real ; what do you do for work ?\",\n",
    "                    \"i am lazy all day lol . my mom wants me to get a job and move out\",\n",
    "                    \"i was born on arbor day , so plant a tree in my name\",\n",
    "                    \"okay , i should not tell you , its against the rules \",\n",
    "                    \"i like to talk to chatbots too ! do you know why ? .\"\n",
    "                ],\n",
    "                \"history\": [\n",
    "                    \"hi , how are you ?\",\n",
    "                    \"hi there . i'm feeling great! how about you ?\",\n",
    "                    \"not bad ! i am trying out this chatbot .\"\n",
    "                ]\n",
    "            },\n",
    "            {\n",
    "                \"candidates\": [\n",
    "                    \"ll something like that . do you play games ?\",\n",
    "                    \"does anything give you relief ? i hate taking medicine for mine .\",\n",
    "                    \"i decorate cakes at a local bakery ! and you ?\",\n",
    "                    \"do you eat lots of meat\",\n",
    "                    \"i am so weird that i like to collect people and cats\",\n",
    "                    \"how are your typing skills ?\",\n",
    "                    \"yeah . i am headed to the gym in a bit to weight lift .\",\n",
    "                    \"yeah you have plenty of time\",\n",
    "                    \"metal is my favorite , but i can accept that people listen to country . haha\",\n",
    "                    \"that's why you desire to be controlled . let me control you person one .\",\n",
    "                    \"two dogs they are the best , how about you ?\",\n",
    "                    \"you do art ? what kind of art do you do ?\",\n",
    "                    \"i love watching baseball outdoors on sunny days .\",\n",
    "                    \"oh i see . do you ever think about moving ? i do , it is what i want .\",\n",
    "                    \"because i am a chatbot too, silly !\"\n",
    "                ],\n",
    "                \"history\": [\n",
    "                    \"hi , how are you ?\",\n",
    "                    \"hi there . i'm feeling great! how about you ?\",\n",
    "                    \"not bad ! i am trying out this chatbot .\",\n",
    "                    \"i like to talk to chatbots too ! do you know why ? .\",\n",
    "                    \"no clue, why don't you tell me ?\"\n",
    "                ]\n",
    "            }\n",
    "        ]\n",
    "    }\n",
    "]        \n"
   ]
  },
  {
   "cell_type": "code",
   "execution_count": 172,
   "metadata": {},
   "outputs": [],
   "source": [
    "import os\n",
    "import json\n",
    "import numpy as np\n",
    "\n",
    "os.makedirs('data', exist_ok = True)\n",
    "\n",
    "with open('data/minimal_train.json', 'w') as f:\n",
    "    json.dump(minimal_train, f)\n",
    "    f.close()"
   ]
  },
  {
   "cell_type": "code",
   "execution_count": 96,
   "metadata": {},
   "outputs": [
    {
     "name": "stdout",
     "output_type": "stream",
     "text": [
      "added_tokens.json\t\tgpt_personachat_cache.tar.gz.2\truns\r\n",
      "apex\t\t\t\tjupyterlab-workspace.json\tsaturn_scratch\r\n",
      "cache_dir\t\t\tlost+found\t\t\tssh\r\n",
      "Chatbot_ST_GPU.ipynb\t\tmerges.txt\t\t\tUntitled1.ipynb\r\n",
      "config.json\t\t\tmodel_training_args.bin\t\tUntitled.ipynb\r\n",
      "data\t\t\t\toutputs\t\t\t\tVer1.ipynb\r\n",
      "gpt_personachat_cache.tar.gz\tproject\t\t\t\tvocab.json\r\n",
      "gpt_personachat_cache.tar.gz.1\tpytorch_model.bin\r\n"
     ]
    }
   ],
   "source": [
    "!ls"
   ]
  },
  {
   "cell_type": "code",
   "execution_count": 97,
   "metadata": {
    "scrolled": true
   },
   "outputs": [
    {
     "name": "stdout",
     "output_type": "stream",
     "text": [
      "Requirement already satisfied: ftfy in /srv/conda/envs/saturn/lib/python3.7/site-packages (5.7)\r\n",
      "Requirement already satisfied: wcwidth in /srv/conda/envs/saturn/lib/python3.7/site-packages (from ftfy) (0.1.8)\r\n"
     ]
    }
   ],
   "source": [
    "!pip install ftfy"
   ]
  },
  {
   "cell_type": "code",
   "execution_count": 98,
   "metadata": {},
   "outputs": [
    {
     "name": "stdout",
     "output_type": "stream",
     "text": [
      "Requirement already satisfied: transformers in /srv/conda/envs/saturn/lib/python3.7/site-packages (2.8.0)\n",
      "Requirement already satisfied: tqdm>=4.27 in /srv/conda/envs/saturn/lib/python3.7/site-packages (from transformers) (4.45.0)\n",
      "Requirement already satisfied: boto3 in /srv/conda/envs/saturn/lib/python3.7/site-packages (from transformers) (1.9.234)\n",
      "Requirement already satisfied: sacremoses in /srv/conda/envs/saturn/lib/python3.7/site-packages (from transformers) (0.0.41)\n",
      "Requirement already satisfied: sentencepiece in /srv/conda/envs/saturn/lib/python3.7/site-packages (from transformers) (0.1.86)\n",
      "Requirement already satisfied: tokenizers==0.5.2 in /srv/conda/envs/saturn/lib/python3.7/site-packages (from transformers) (0.5.2)\n",
      "Requirement already satisfied: regex!=2019.12.17 in /srv/conda/envs/saturn/lib/python3.7/site-packages (from transformers) (2020.4.4)\n",
      "Requirement already satisfied: requests in /srv/conda/envs/saturn/lib/python3.7/site-packages (from transformers) (2.23.0)\n",
      "Requirement already satisfied: filelock in /srv/conda/envs/saturn/lib/python3.7/site-packages (from transformers) (3.0.12)\n",
      "Requirement already satisfied: numpy in /srv/conda/envs/saturn/lib/python3.7/site-packages (from transformers) (1.18.1)\n",
      "Requirement already satisfied: jmespath<1.0.0,>=0.7.1 in /srv/conda/envs/saturn/lib/python3.7/site-packages (from boto3->transformers) (0.9.4)\n",
      "Requirement already satisfied: botocore<1.13.0,>=1.12.234 in /srv/conda/envs/saturn/lib/python3.7/site-packages (from boto3->transformers) (1.12.234)\n",
      "Requirement already satisfied: s3transfer<0.3.0,>=0.2.0 in /srv/conda/envs/saturn/lib/python3.7/site-packages (from boto3->transformers) (0.2.1)\n",
      "Requirement already satisfied: six in /srv/conda/envs/saturn/lib/python3.7/site-packages (from sacremoses->transformers) (1.14.0)\n",
      "Requirement already satisfied: joblib in /srv/conda/envs/saturn/lib/python3.7/site-packages (from sacremoses->transformers) (0.14.1)\n",
      "Requirement already satisfied: click in /srv/conda/envs/saturn/lib/python3.7/site-packages (from sacremoses->transformers) (7.0)\n",
      "Requirement already satisfied: idna<3,>=2.5 in /srv/conda/envs/saturn/lib/python3.7/site-packages (from requests->transformers) (2.8)\n",
      "Requirement already satisfied: certifi>=2017.4.17 in /srv/conda/envs/saturn/lib/python3.7/site-packages (from requests->transformers) (2019.11.28)\n",
      "Requirement already satisfied: chardet<4,>=3.0.2 in /srv/conda/envs/saturn/lib/python3.7/site-packages (from requests->transformers) (3.0.4)\n",
      "Requirement already satisfied: urllib3!=1.25.0,!=1.25.1,<1.26,>=1.21.1 in /srv/conda/envs/saturn/lib/python3.7/site-packages (from requests->transformers) (1.25.8)\n",
      "Requirement already satisfied: docutils<0.16,>=0.10 in /srv/conda/envs/saturn/lib/python3.7/site-packages (from botocore<1.13.0,>=1.12.234->boto3->transformers) (0.15.2)\n",
      "Requirement already satisfied: python-dateutil<3.0.0,>=2.1 in /srv/conda/envs/saturn/lib/python3.7/site-packages (from botocore<1.13.0,>=1.12.234->boto3->transformers) (2.8.1)\n"
     ]
    }
   ],
   "source": [
    "!pip install transformers"
   ]
  },
  {
   "cell_type": "code",
   "execution_count": 99,
   "metadata": {},
   "outputs": [
    {
     "name": "stdout",
     "output_type": "stream",
     "text": [
      "/home/jovyan\r\n"
     ]
    }
   ],
   "source": [
    "!pwd"
   ]
  },
  {
   "cell_type": "code",
   "execution_count": 100,
   "metadata": {},
   "outputs": [
    {
     "name": "stdout",
     "output_type": "stream",
     "text": [
      "Requirement already satisfied: torch in /srv/conda/envs/saturn/lib/python3.7/site-packages (1.4.0+cu100)\r\n"
     ]
    }
   ],
   "source": [
    "!pip install torch"
   ]
  },
  {
   "cell_type": "code",
   "execution_count": 101,
   "metadata": {},
   "outputs": [
    {
     "name": "stdout",
     "output_type": "stream",
     "text": [
      "Requirement already satisfied: torchvision in /srv/conda/envs/saturn/lib/python3.7/site-packages (0.5.0+cu100)\n",
      "Requirement already satisfied: pillow>=4.1.1 in /srv/conda/envs/saturn/lib/python3.7/site-packages (from torchvision) (6.2.2)\n",
      "Requirement already satisfied: torch==1.4.0 in /srv/conda/envs/saturn/lib/python3.7/site-packages (from torchvision) (1.4.0+cu100)\n",
      "Requirement already satisfied: numpy in /srv/conda/envs/saturn/lib/python3.7/site-packages (from torchvision) (1.18.1)\n",
      "Requirement already satisfied: six in /srv/conda/envs/saturn/lib/python3.7/site-packages (from torchvision) (1.14.0)\n"
     ]
    }
   ],
   "source": [
    "!pip install torchvision"
   ]
  },
  {
   "cell_type": "code",
   "execution_count": 102,
   "metadata": {},
   "outputs": [
    {
     "name": "stdout",
     "output_type": "stream",
     "text": [
      "Requirement already satisfied: spacy in /srv/conda/envs/saturn/lib/python3.7/site-packages (2.2.4)\n",
      "Requirement already satisfied: numpy>=1.15.0 in /srv/conda/envs/saturn/lib/python3.7/site-packages (from spacy) (1.18.1)\n",
      "Requirement already satisfied: thinc==7.4.0 in /srv/conda/envs/saturn/lib/python3.7/site-packages (from spacy) (7.4.0)\n",
      "Requirement already satisfied: setuptools in /srv/conda/envs/saturn/lib/python3.7/site-packages (from spacy) (46.0.0.post20200309)\n",
      "Requirement already satisfied: wasabi<1.1.0,>=0.4.0 in /srv/conda/envs/saturn/lib/python3.7/site-packages (from spacy) (0.6.0)\n",
      "Requirement already satisfied: plac<1.2.0,>=0.9.6 in /srv/conda/envs/saturn/lib/python3.7/site-packages (from spacy) (1.1.3)\n",
      "Requirement already satisfied: preshed<3.1.0,>=3.0.2 in /srv/conda/envs/saturn/lib/python3.7/site-packages (from spacy) (3.0.2)\n",
      "Requirement already satisfied: tqdm<5.0.0,>=4.38.0 in /srv/conda/envs/saturn/lib/python3.7/site-packages (from spacy) (4.45.0)\n",
      "Requirement already satisfied: catalogue<1.1.0,>=0.0.7 in /srv/conda/envs/saturn/lib/python3.7/site-packages (from spacy) (1.0.0)\n",
      "Requirement already satisfied: cymem<2.1.0,>=2.0.2 in /srv/conda/envs/saturn/lib/python3.7/site-packages (from spacy) (2.0.3)\n",
      "Requirement already satisfied: murmurhash<1.1.0,>=0.28.0 in /srv/conda/envs/saturn/lib/python3.7/site-packages (from spacy) (1.0.2)\n",
      "Requirement already satisfied: blis<0.5.0,>=0.4.0 in /srv/conda/envs/saturn/lib/python3.7/site-packages (from spacy) (0.4.1)\n",
      "Requirement already satisfied: srsly<1.1.0,>=1.0.2 in /srv/conda/envs/saturn/lib/python3.7/site-packages (from spacy) (1.0.2)\n",
      "Requirement already satisfied: requests<3.0.0,>=2.13.0 in /srv/conda/envs/saturn/lib/python3.7/site-packages (from spacy) (2.23.0)\n",
      "Requirement already satisfied: importlib-metadata>=0.20; python_version < \"3.8\" in /srv/conda/envs/saturn/lib/python3.7/site-packages (from catalogue<1.1.0,>=0.0.7->spacy) (1.5.0)\n",
      "Requirement already satisfied: urllib3!=1.25.0,!=1.25.1,<1.26,>=1.21.1 in /srv/conda/envs/saturn/lib/python3.7/site-packages (from requests<3.0.0,>=2.13.0->spacy) (1.25.8)\n",
      "Requirement already satisfied: certifi>=2017.4.17 in /srv/conda/envs/saturn/lib/python3.7/site-packages (from requests<3.0.0,>=2.13.0->spacy) (2019.11.28)\n",
      "Requirement already satisfied: idna<3,>=2.5 in /srv/conda/envs/saturn/lib/python3.7/site-packages (from requests<3.0.0,>=2.13.0->spacy) (2.8)\n",
      "Requirement already satisfied: chardet<4,>=3.0.2 in /srv/conda/envs/saturn/lib/python3.7/site-packages (from requests<3.0.0,>=2.13.0->spacy) (3.0.4)\n",
      "Requirement already satisfied: zipp>=0.5 in /srv/conda/envs/saturn/lib/python3.7/site-packages (from importlib-metadata>=0.20; python_version < \"3.8\"->catalogue<1.1.0,>=0.0.7->spacy) (2.2.0)\n"
     ]
    }
   ],
   "source": [
    "!pip install spacy"
   ]
  },
  {
   "cell_type": "code",
   "execution_count": 103,
   "metadata": {},
   "outputs": [
    {
     "name": "stdout",
     "output_type": "stream",
     "text": [
      "Found existing installation: torch 1.4.0+cu100\n",
      "Uninstalling torch-1.4.0+cu100:\n",
      "  Successfully uninstalled torch-1.4.0+cu100\n"
     ]
    }
   ],
   "source": [
    "!pip uninstall torch --yes"
   ]
  },
  {
   "cell_type": "code",
   "execution_count": 104,
   "metadata": {},
   "outputs": [
    {
     "name": "stdout",
     "output_type": "stream",
     "text": [
      "Collecting torchvision==0.4.0\n",
      "  Using cached torchvision-0.4.0-cp37-cp37m-manylinux1_x86_64.whl (8.8 MB)\n",
      "Requirement already satisfied, skipping upgrade: numpy in /srv/conda/envs/saturn/lib/python3.7/site-packages (from torchvision==0.4.0) (1.18.1)\n",
      "Collecting torch==1.2.0\n",
      "  Using cached torch-1.2.0-cp37-cp37m-manylinux1_x86_64.whl (748.9 MB)\n",
      "Requirement already satisfied, skipping upgrade: pillow>=4.1.1 in /srv/conda/envs/saturn/lib/python3.7/site-packages (from torchvision==0.4.0) (6.2.2)\n",
      "Requirement already satisfied, skipping upgrade: six in /srv/conda/envs/saturn/lib/python3.7/site-packages (from torchvision==0.4.0) (1.14.0)\n",
      "Installing collected packages: torch, torchvision\n",
      "  Attempting uninstall: torchvision\n",
      "    Found existing installation: torchvision 0.5.0+cu100\n",
      "    Uninstalling torchvision-0.5.0+cu100:\n",
      "      Successfully uninstalled torchvision-0.5.0+cu100\n",
      "Successfully installed torch-1.2.0 torchvision-0.4.0\n"
     ]
    }
   ],
   "source": [
    "!pip install -U torchvision==0.4.0"
   ]
  },
  {
   "cell_type": "code",
   "execution_count": 105,
   "metadata": {},
   "outputs": [
    {
     "name": "stdout",
     "output_type": "stream",
     "text": [
      "Requirement already satisfied: torch in /srv/conda/envs/saturn/lib/python3.7/site-packages (1.2.0)\r\n",
      "Requirement already satisfied: numpy in /srv/conda/envs/saturn/lib/python3.7/site-packages (from torch) (1.18.1)\r\n"
     ]
    }
   ],
   "source": [
    "!pip install torch"
   ]
  },
  {
   "cell_type": "code",
   "execution_count": 106,
   "metadata": {},
   "outputs": [
    {
     "name": "stdout",
     "output_type": "stream",
     "text": [
      "Found existing installation: Pillow 6.2.2\n",
      "Uninstalling Pillow-6.2.2:\n",
      "  Successfully uninstalled Pillow-6.2.2\n"
     ]
    }
   ],
   "source": [
    "!pip uninstall pillow --yes"
   ]
  },
  {
   "cell_type": "code",
   "execution_count": 107,
   "metadata": {},
   "outputs": [
    {
     "name": "stdout",
     "output_type": "stream",
     "text": [
      "Collecting pillow<7\n",
      "  Using cached Pillow-6.2.2-cp37-cp37m-manylinux1_x86_64.whl (2.1 MB)\n",
      "Installing collected packages: pillow\n",
      "Successfully installed pillow-6.2.2\n"
     ]
    }
   ],
   "source": [
    "!pip install \"pillow<7\""
   ]
  },
  {
   "cell_type": "code",
   "execution_count": 108,
   "metadata": {},
   "outputs": [
    {
     "name": "stdout",
     "output_type": "stream",
     "text": [
      "Collecting pytorch\n",
      "  Using cached pytorch-1.0.2.tar.gz (689 bytes)\n",
      "Building wheels for collected packages: pytorch\n",
      "  Building wheel for pytorch (setup.py) ... \u001b[?25lerror\n",
      "\u001b[31m  ERROR: Command errored out with exit status 1:\n",
      "   command: /srv/conda/envs/saturn/bin/python -u -c 'import sys, setuptools, tokenize; sys.argv[0] = '\"'\"'/tmp/pip-install-vnv8t8r5/pytorch/setup.py'\"'\"'; __file__='\"'\"'/tmp/pip-install-vnv8t8r5/pytorch/setup.py'\"'\"';f=getattr(tokenize, '\"'\"'open'\"'\"', open)(__file__);code=f.read().replace('\"'\"'\\r\\n'\"'\"', '\"'\"'\\n'\"'\"');f.close();exec(compile(code, __file__, '\"'\"'exec'\"'\"'))' bdist_wheel -d /tmp/pip-wheel-5j_i5a_o\n",
      "       cwd: /tmp/pip-install-vnv8t8r5/pytorch/\n",
      "  Complete output (5 lines):\n",
      "  Traceback (most recent call last):\n",
      "    File \"<string>\", line 1, in <module>\n",
      "    File \"/tmp/pip-install-vnv8t8r5/pytorch/setup.py\", line 15, in <module>\n",
      "      raise Exception(message)\n",
      "  Exception: You tried to install \"pytorch\". The package named for PyTorch is \"torch\"\n",
      "  ----------------------------------------\u001b[0m\n",
      "\u001b[31m  ERROR: Failed building wheel for pytorch\u001b[0m\n",
      "\u001b[?25h  Running setup.py clean for pytorch\n",
      "Failed to build pytorch\n",
      "Installing collected packages: pytorch\n",
      "    Running setup.py install for pytorch ... \u001b[?25lerror\n",
      "\u001b[31m    ERROR: Command errored out with exit status 1:\n",
      "     command: /srv/conda/envs/saturn/bin/python -u -c 'import sys, setuptools, tokenize; sys.argv[0] = '\"'\"'/tmp/pip-install-vnv8t8r5/pytorch/setup.py'\"'\"'; __file__='\"'\"'/tmp/pip-install-vnv8t8r5/pytorch/setup.py'\"'\"';f=getattr(tokenize, '\"'\"'open'\"'\"', open)(__file__);code=f.read().replace('\"'\"'\\r\\n'\"'\"', '\"'\"'\\n'\"'\"');f.close();exec(compile(code, __file__, '\"'\"'exec'\"'\"'))' install --record /tmp/pip-record-54dw3mmg/install-record.txt --single-version-externally-managed --compile --install-headers /srv/conda/envs/saturn/include/python3.7m/pytorch\n",
      "         cwd: /tmp/pip-install-vnv8t8r5/pytorch/\n",
      "    Complete output (5 lines):\n",
      "    Traceback (most recent call last):\n",
      "      File \"<string>\", line 1, in <module>\n",
      "      File \"/tmp/pip-install-vnv8t8r5/pytorch/setup.py\", line 11, in <module>\n",
      "        raise Exception(message)\n",
      "    Exception: You tried to install \"pytorch\". The package named for PyTorch is \"torch\"\n",
      "    ----------------------------------------\u001b[0m\n",
      "\u001b[31mERROR: Command errored out with exit status 1: /srv/conda/envs/saturn/bin/python -u -c 'import sys, setuptools, tokenize; sys.argv[0] = '\"'\"'/tmp/pip-install-vnv8t8r5/pytorch/setup.py'\"'\"'; __file__='\"'\"'/tmp/pip-install-vnv8t8r5/pytorch/setup.py'\"'\"';f=getattr(tokenize, '\"'\"'open'\"'\"', open)(__file__);code=f.read().replace('\"'\"'\\r\\n'\"'\"', '\"'\"'\\n'\"'\"');f.close();exec(compile(code, __file__, '\"'\"'exec'\"'\"'))' install --record /tmp/pip-record-54dw3mmg/install-record.txt --single-version-externally-managed --compile --install-headers /srv/conda/envs/saturn/include/python3.7m/pytorch Check the logs for full command output.\u001b[0m\n",
      "\u001b[?25h"
     ]
    }
   ],
   "source": [
    "!pip install pytorch"
   ]
  },
  {
   "cell_type": "code",
   "execution_count": 109,
   "metadata": {},
   "outputs": [
    {
     "name": "stdout",
     "output_type": "stream",
     "text": [
      "Found existing installation: torchvision 0.4.0\n",
      "Uninstalling torchvision-0.4.0:\n",
      "  Successfully uninstalled torchvision-0.4.0\n"
     ]
    }
   ],
   "source": [
    "!pip uninstall torchvision --yes"
   ]
  },
  {
   "cell_type": "code",
   "execution_count": 110,
   "metadata": {},
   "outputs": [
    {
     "name": "stdout",
     "output_type": "stream",
     "text": [
      "Collecting torchvision==0.4.0\n",
      "  Using cached torchvision-0.4.0-cp37-cp37m-manylinux1_x86_64.whl (8.8 MB)\n",
      "Requirement already satisfied, skipping upgrade: torch==1.2.0 in /srv/conda/envs/saturn/lib/python3.7/site-packages (from torchvision==0.4.0) (1.2.0)\n",
      "Requirement already satisfied, skipping upgrade: numpy in /srv/conda/envs/saturn/lib/python3.7/site-packages (from torchvision==0.4.0) (1.18.1)\n",
      "Requirement already satisfied, skipping upgrade: six in /srv/conda/envs/saturn/lib/python3.7/site-packages (from torchvision==0.4.0) (1.14.0)\n",
      "Requirement already satisfied, skipping upgrade: pillow>=4.1.1 in /srv/conda/envs/saturn/lib/python3.7/site-packages (from torchvision==0.4.0) (6.2.2)\n",
      "Installing collected packages: torchvision\n",
      "Successfully installed torchvision-0.4.0\n"
     ]
    }
   ],
   "source": [
    "!pip install -U torchvision==0.4.0"
   ]
  },
  {
   "cell_type": "code",
   "execution_count": 111,
   "metadata": {},
   "outputs": [
    {
     "name": "stdout",
     "output_type": "stream",
     "text": [
      "Found existing installation: simpletransformers 0.26.0\n",
      "Uninstalling simpletransformers-0.26.0:\n",
      "  Successfully uninstalled simpletransformers-0.26.0\n"
     ]
    }
   ],
   "source": [
    "!pip uninstall simpletransformers --yes"
   ]
  },
  {
   "cell_type": "code",
   "execution_count": 112,
   "metadata": {},
   "outputs": [
    {
     "name": "stdout",
     "output_type": "stream",
     "text": [
      "Collecting simpletransformers\n",
      "  Using cached simpletransformers-0.26.0-py3-none-any.whl (159 kB)\n",
      "Requirement already satisfied: tqdm in /srv/conda/envs/saturn/lib/python3.7/site-packages (from simpletransformers) (4.45.0)\n",
      "Requirement already satisfied: tokenizers in /srv/conda/envs/saturn/lib/python3.7/site-packages (from simpletransformers) (0.5.2)\n",
      "Requirement already satisfied: tensorboardx in /srv/conda/envs/saturn/lib/python3.7/site-packages (from simpletransformers) (2.0)\n",
      "Requirement already satisfied: numpy in /srv/conda/envs/saturn/lib/python3.7/site-packages (from simpletransformers) (1.18.1)\n",
      "Requirement already satisfied: seqeval in /srv/conda/envs/saturn/lib/python3.7/site-packages (from simpletransformers) (0.0.12)\n",
      "Requirement already satisfied: scipy in /srv/conda/envs/saturn/lib/python3.7/site-packages (from simpletransformers) (1.4.1)\n",
      "Requirement already satisfied: requests in /srv/conda/envs/saturn/lib/python3.7/site-packages (from simpletransformers) (2.23.0)\n",
      "Requirement already satisfied: regex in /srv/conda/envs/saturn/lib/python3.7/site-packages (from simpletransformers) (2020.4.4)\n",
      "Requirement already satisfied: scikit-learn in /srv/conda/envs/saturn/lib/python3.7/site-packages (from simpletransformers) (0.22.1)\n",
      "Requirement already satisfied: transformers in /srv/conda/envs/saturn/lib/python3.7/site-packages (from simpletransformers) (2.8.0)\n",
      "Requirement already satisfied: pandas in /srv/conda/envs/saturn/lib/python3.7/site-packages (from simpletransformers) (0.24.2)\n",
      "Requirement already satisfied: protobuf>=3.8.0 in /srv/conda/envs/saturn/lib/python3.7/site-packages (from tensorboardx->simpletransformers) (3.8.0)\n",
      "Requirement already satisfied: six in /srv/conda/envs/saturn/lib/python3.7/site-packages (from tensorboardx->simpletransformers) (1.14.0)\n",
      "Requirement already satisfied: Keras>=2.2.4 in /srv/conda/envs/saturn/lib/python3.7/site-packages (from seqeval->simpletransformers) (2.3.1)\n",
      "Requirement already satisfied: certifi>=2017.4.17 in /srv/conda/envs/saturn/lib/python3.7/site-packages (from requests->simpletransformers) (2019.11.28)\n",
      "Requirement already satisfied: urllib3!=1.25.0,!=1.25.1,<1.26,>=1.21.1 in /srv/conda/envs/saturn/lib/python3.7/site-packages (from requests->simpletransformers) (1.25.8)\n",
      "Requirement already satisfied: idna<3,>=2.5 in /srv/conda/envs/saturn/lib/python3.7/site-packages (from requests->simpletransformers) (2.8)\n",
      "Requirement already satisfied: chardet<4,>=3.0.2 in /srv/conda/envs/saturn/lib/python3.7/site-packages (from requests->simpletransformers) (3.0.4)\n",
      "Requirement already satisfied: joblib>=0.11 in /srv/conda/envs/saturn/lib/python3.7/site-packages (from scikit-learn->simpletransformers) (0.14.1)\n",
      "Requirement already satisfied: filelock in /srv/conda/envs/saturn/lib/python3.7/site-packages (from transformers->simpletransformers) (3.0.12)\n",
      "Requirement already satisfied: sacremoses in /srv/conda/envs/saturn/lib/python3.7/site-packages (from transformers->simpletransformers) (0.0.41)\n",
      "Requirement already satisfied: boto3 in /srv/conda/envs/saturn/lib/python3.7/site-packages (from transformers->simpletransformers) (1.9.234)\n",
      "Requirement already satisfied: sentencepiece in /srv/conda/envs/saturn/lib/python3.7/site-packages (from transformers->simpletransformers) (0.1.86)\n",
      "Requirement already satisfied: pytz>=2011k in /srv/conda/envs/saturn/lib/python3.7/site-packages (from pandas->simpletransformers) (2019.3)\n",
      "Requirement already satisfied: python-dateutil>=2.5.0 in /srv/conda/envs/saturn/lib/python3.7/site-packages (from pandas->simpletransformers) (2.8.1)\n",
      "Requirement already satisfied: setuptools in /srv/conda/envs/saturn/lib/python3.7/site-packages (from protobuf>=3.8.0->tensorboardx->simpletransformers) (46.0.0.post20200309)\n",
      "Requirement already satisfied: keras-preprocessing>=1.0.5 in /srv/conda/envs/saturn/lib/python3.7/site-packages (from Keras>=2.2.4->seqeval->simpletransformers) (1.1.0)\n",
      "Requirement already satisfied: keras-applications>=1.0.6 in /srv/conda/envs/saturn/lib/python3.7/site-packages (from Keras>=2.2.4->seqeval->simpletransformers) (1.0.8)\n",
      "Requirement already satisfied: h5py in /srv/conda/envs/saturn/lib/python3.7/site-packages (from Keras>=2.2.4->seqeval->simpletransformers) (2.10.0)\n",
      "Requirement already satisfied: pyyaml in /srv/conda/envs/saturn/lib/python3.7/site-packages (from Keras>=2.2.4->seqeval->simpletransformers) (5.3)\n",
      "Requirement already satisfied: click in /srv/conda/envs/saturn/lib/python3.7/site-packages (from sacremoses->transformers->simpletransformers) (7.0)\n",
      "Requirement already satisfied: botocore<1.13.0,>=1.12.234 in /srv/conda/envs/saturn/lib/python3.7/site-packages (from boto3->transformers->simpletransformers) (1.12.234)\n",
      "Requirement already satisfied: s3transfer<0.3.0,>=0.2.0 in /srv/conda/envs/saturn/lib/python3.7/site-packages (from boto3->transformers->simpletransformers) (0.2.1)\n",
      "Requirement already satisfied: jmespath<1.0.0,>=0.7.1 in /srv/conda/envs/saturn/lib/python3.7/site-packages (from boto3->transformers->simpletransformers) (0.9.4)\n",
      "Requirement already satisfied: docutils<0.16,>=0.10 in /srv/conda/envs/saturn/lib/python3.7/site-packages (from botocore<1.13.0,>=1.12.234->boto3->transformers->simpletransformers) (0.15.2)\n",
      "Installing collected packages: simpletransformers\n",
      "Successfully installed simpletransformers-0.26.0\n",
      "Note: you may need to restart the kernel to use updated packages.\n"
     ]
    }
   ],
   "source": [
    "pip install simpletransformers"
   ]
  },
  {
   "cell_type": "code",
   "execution_count": 113,
   "metadata": {
    "scrolled": true
   },
   "outputs": [],
   "source": [
    "#restart\n",
    "from simpletransformers.conv_ai import ConvAIModel"
   ]
  },
  {
   "cell_type": "code",
   "execution_count": 114,
   "metadata": {},
   "outputs": [
    {
     "name": "stdout",
     "output_type": "stream",
     "text": [
      "added_tokens.json\t\tgpt_personachat_cache.tar.gz.2\truns\r\n",
      "apex\t\t\t\tjupyterlab-workspace.json\tsaturn_scratch\r\n",
      "cache_dir\t\t\tlost+found\t\t\tssh\r\n",
      "Chatbot_ST_GPU.ipynb\t\tmerges.txt\t\t\tUntitled1.ipynb\r\n",
      "config.json\t\t\tmodel_training_args.bin\t\tUntitled.ipynb\r\n",
      "data\t\t\t\toutputs\t\t\t\tVer1.ipynb\r\n",
      "gpt_personachat_cache.tar.gz\tproject\t\t\t\tvocab.json\r\n",
      "gpt_personachat_cache.tar.gz.1\tpytorch_model.bin\r\n"
     ]
    }
   ],
   "source": [
    "!ls"
   ]
  },
  {
   "cell_type": "code",
   "execution_count": 115,
   "metadata": {},
   "outputs": [
    {
     "name": "stdout",
     "output_type": "stream",
     "text": [
      "/home/jovyan\r\n"
     ]
    }
   ],
   "source": [
    "!pwd"
   ]
  },
  {
   "cell_type": "code",
   "execution_count": 116,
   "metadata": {},
   "outputs": [],
   "source": [
    "#!pip install torch"
   ]
  },
  {
   "cell_type": "code",
   "execution_count": 117,
   "metadata": {},
   "outputs": [],
   "source": [
    "import torch"
   ]
  },
  {
   "cell_type": "code",
   "execution_count": 118,
   "metadata": {
    "scrolled": true
   },
   "outputs": [
    {
     "name": "stdout",
     "output_type": "stream",
     "text": [
      "1.2.0\n"
     ]
    }
   ],
   "source": [
    "print(torch.__version__)"
   ]
  },
  {
   "cell_type": "code",
   "execution_count": 119,
   "metadata": {},
   "outputs": [
    {
     "name": "stdout",
     "output_type": "stream",
     "text": [
      "True\n"
     ]
    }
   ],
   "source": [
    "print(torch.cuda.is_available())"
   ]
  },
  {
   "cell_type": "code",
   "execution_count": 120,
   "metadata": {},
   "outputs": [
    {
     "name": "stdout",
     "output_type": "stream",
     "text": [
      "True\n"
     ]
    }
   ],
   "source": [
    "print(torch.backends.cudnn.enabled)"
   ]
  },
  {
   "cell_type": "code",
   "execution_count": 121,
   "metadata": {},
   "outputs": [
    {
     "name": "stdout",
     "output_type": "stream",
     "text": [
      "added_tokens.json\t\tgpt_personachat_cache.tar.gz.2\truns\r\n",
      "apex\t\t\t\tjupyterlab-workspace.json\tsaturn_scratch\r\n",
      "cache_dir\t\t\tlost+found\t\t\tssh\r\n",
      "Chatbot_ST_GPU.ipynb\t\tmerges.txt\t\t\tUntitled1.ipynb\r\n",
      "config.json\t\t\tmodel_training_args.bin\t\tUntitled.ipynb\r\n",
      "data\t\t\t\toutputs\t\t\t\tVer1.ipynb\r\n",
      "gpt_personachat_cache.tar.gz\tproject\t\t\t\tvocab.json\r\n",
      "gpt_personachat_cache.tar.gz.1\tpytorch_model.bin\r\n"
     ]
    }
   ],
   "source": [
    "!ls"
   ]
  },
  {
   "cell_type": "code",
   "execution_count": 122,
   "metadata": {
    "scrolled": true
   },
   "outputs": [
    {
     "name": "stdout",
     "output_type": "stream",
     "text": [
      "--2020-04-26 17:35:41--  https://s3.amazonaws.com/models.huggingface.co/transfer-learning-chatbot/gpt_personachat_cache.tar.gz\n",
      "Resolving s3.amazonaws.com (s3.amazonaws.com)... 52.217.45.62\n",
      "Connecting to s3.amazonaws.com (s3.amazonaws.com)|52.217.45.62|:443... connected.\n",
      "HTTP request sent, awaiting response... 200 OK\n",
      "Length: 433534994 (413M) [application/x-tar]\n",
      "Saving to: ‘gpt_personachat_cache.tar.gz.3’\n",
      "\n",
      "gpt_personachat_cac 100%[===================>] 413.45M  75.0MB/s    in 5.4s    \n",
      "\n",
      "2020-04-26 17:35:47 (76.6 MB/s) - ‘gpt_personachat_cache.tar.gz.3’ saved [433534994/433534994]\n",
      "\n"
     ]
    }
   ],
   "source": [
    "!wget 'https://s3.amazonaws.com/models.huggingface.co/transfer-learning-chatbot/gpt_personachat_cache.tar.gz'"
   ]
  },
  {
   "cell_type": "code",
   "execution_count": 123,
   "metadata": {},
   "outputs": [
    {
     "name": "stdout",
     "output_type": "stream",
     "text": [
      "./._added_tokens.json\n",
      "added_tokens.json\n",
      "config.json\n",
      "merges.txt\n",
      "model_training_args.bin\n",
      "pytorch_model.bin\n",
      "vocab.json\n"
     ]
    }
   ],
   "source": [
    "!tar -xvf gpt_personachat_cache.tar.gz"
   ]
  },
  {
   "cell_type": "code",
   "execution_count": 124,
   "metadata": {},
   "outputs": [],
   "source": [
    "train_args = {\n",
    "    \"overwrite_output_dir\": True,\n",
    "    \"reprocess_input_data\": True\n",
    "}\n",
    "model = ConvAIModel(\"gpt\", \"/home/jovyan\", use_cuda=True, args=train_args) "
   ]
  },
  {
   "cell_type": "code",
   "execution_count": 125,
   "metadata": {},
   "outputs": [
    {
     "name": "stdout",
     "output_type": "stream",
     "text": [
      "nvcc: NVIDIA (R) Cuda compiler driver\r\n",
      "Copyright (c) 2005-2019 NVIDIA Corporation\r\n",
      "Built on Sun_Jul_28_19:07:16_PDT_2019\r\n",
      "Cuda compilation tools, release 10.1, V10.1.243\r\n"
     ]
    }
   ],
   "source": [
    "!nvcc --version"
   ]
  },
  {
   "cell_type": "code",
   "execution_count": 126,
   "metadata": {},
   "outputs": [
    {
     "name": "stdout",
     "output_type": "stream",
     "text": [
      "[install Nvidia apex] done in 3 s\n"
     ]
    }
   ],
   "source": [
    "#1\n",
    "import os, sys, shutil\n",
    "import time\n",
    "import gc\n",
    "from contextlib import contextmanager\n",
    "from pathlib import Path\n",
    "import random\n",
    "import numpy as np, pandas as pd\n",
    "from tqdm import tqdm, tqdm_notebook\n",
    "\n",
    "@contextmanager\n",
    "def timer(name):\n",
    "    t0 = time.time()\n",
    "    yield\n",
    "    print(f'[{name}] done in {time.time() - t0:.0f} s')\n",
    "\n",
    "USE_APEX = True\n",
    "\n",
    "if USE_APEX:\n",
    "            with timer('install Nvidia apex'):\n",
    "                # Installing Nvidia Apex\n",
    "                os.system('git clone https://github.com/NVIDIA/apex; cd apex; pip install -v --no-cache-dir' + \n",
    "                          ' --global-option=\"--cpp_ext\" --global-option=\"--cuda_ext\" ./')\n",
    "                os.system('rm -rf apex/.git') # too many files, Kaggle fails\n",
    "                import apex"
   ]
  },
  {
   "cell_type": "code",
   "execution_count": 131,
   "metadata": {},
   "outputs": [
    {
     "name": "stdout",
     "output_type": "stream",
     "text": [
      "/home/jovyan\r\n"
     ]
    }
   ],
   "source": [
    "!pwd"
   ]
  },
  {
   "cell_type": "code",
   "execution_count": 141,
   "metadata": {
    "scrolled": true
   },
   "outputs": [
    {
     "name": "stdout",
     "output_type": "stream",
     "text": [
      "/home/jovyan/apex/apex/amp\n"
     ]
    }
   ],
   "source": [
    "cd '/home/jovyan/apex/apex/amp'"
   ]
  },
  {
   "cell_type": "code",
   "execution_count": 167,
   "metadata": {
    "collapsed": true
   },
   "outputs": [
    {
     "ename": "FileExistsError",
     "evalue": "[Errno 17] File exists: '/home/jovyan/apex'",
     "output_type": "error",
     "traceback": [
      "\u001b[0;31m---------------------------------------------------------------------------\u001b[0m",
      "\u001b[0;31mFileExistsError\u001b[0m                           Traceback (most recent call last)",
      "\u001b[0;32m<ipython-input-167-34f35d1b41ba>\u001b[0m in \u001b[0;36m<module>\u001b[0;34m\u001b[0m\n\u001b[1;32m      1\u001b[0m \u001b[0;32mimport\u001b[0m \u001b[0mshutil\u001b[0m\u001b[0;34m\u001b[0m\u001b[0;34m\u001b[0m\u001b[0m\n\u001b[0;32m----> 2\u001b[0;31m \u001b[0mshutil\u001b[0m\u001b[0;34m.\u001b[0m\u001b[0mcopytree\u001b[0m\u001b[0;34m(\u001b[0m\u001b[0;34m'/home/jovyan/apex/apex'\u001b[0m\u001b[0;34m,\u001b[0m\u001b[0;34m'/home/jovyan/apex'\u001b[0m\u001b[0;34m)\u001b[0m\u001b[0;34m\u001b[0m\u001b[0;34m\u001b[0m\u001b[0m\n\u001b[0m",
      "\u001b[0;32m/srv/conda/envs/saturn/lib/python3.7/shutil.py\u001b[0m in \u001b[0;36mcopytree\u001b[0;34m(src, dst, symlinks, ignore, copy_function, ignore_dangling_symlinks)\u001b[0m\n\u001b[1;32m    322\u001b[0m         \u001b[0mignored_names\u001b[0m \u001b[0;34m=\u001b[0m \u001b[0mset\u001b[0m\u001b[0;34m(\u001b[0m\u001b[0;34m)\u001b[0m\u001b[0;34m\u001b[0m\u001b[0;34m\u001b[0m\u001b[0m\n\u001b[1;32m    323\u001b[0m \u001b[0;34m\u001b[0m\u001b[0m\n\u001b[0;32m--> 324\u001b[0;31m     \u001b[0mos\u001b[0m\u001b[0;34m.\u001b[0m\u001b[0mmakedirs\u001b[0m\u001b[0;34m(\u001b[0m\u001b[0mdst\u001b[0m\u001b[0;34m)\u001b[0m\u001b[0;34m\u001b[0m\u001b[0;34m\u001b[0m\u001b[0m\n\u001b[0m\u001b[1;32m    325\u001b[0m     \u001b[0merrors\u001b[0m \u001b[0;34m=\u001b[0m \u001b[0;34m[\u001b[0m\u001b[0;34m]\u001b[0m\u001b[0;34m\u001b[0m\u001b[0;34m\u001b[0m\u001b[0m\n\u001b[1;32m    326\u001b[0m     \u001b[0;32mfor\u001b[0m \u001b[0mname\u001b[0m \u001b[0;32min\u001b[0m \u001b[0mnames\u001b[0m\u001b[0;34m:\u001b[0m\u001b[0;34m\u001b[0m\u001b[0;34m\u001b[0m\u001b[0m\n",
      "\u001b[0;32m/srv/conda/envs/saturn/lib/python3.7/os.py\u001b[0m in \u001b[0;36mmakedirs\u001b[0;34m(name, mode, exist_ok)\u001b[0m\n\u001b[1;32m    219\u001b[0m             \u001b[0;32mreturn\u001b[0m\u001b[0;34m\u001b[0m\u001b[0;34m\u001b[0m\u001b[0m\n\u001b[1;32m    220\u001b[0m     \u001b[0;32mtry\u001b[0m\u001b[0;34m:\u001b[0m\u001b[0;34m\u001b[0m\u001b[0;34m\u001b[0m\u001b[0m\n\u001b[0;32m--> 221\u001b[0;31m         \u001b[0mmkdir\u001b[0m\u001b[0;34m(\u001b[0m\u001b[0mname\u001b[0m\u001b[0;34m,\u001b[0m \u001b[0mmode\u001b[0m\u001b[0;34m)\u001b[0m\u001b[0;34m\u001b[0m\u001b[0;34m\u001b[0m\u001b[0m\n\u001b[0m\u001b[1;32m    222\u001b[0m     \u001b[0;32mexcept\u001b[0m \u001b[0mOSError\u001b[0m\u001b[0;34m:\u001b[0m\u001b[0;34m\u001b[0m\u001b[0;34m\u001b[0m\u001b[0m\n\u001b[1;32m    223\u001b[0m         \u001b[0;31m# Cannot rely on checking for EEXIST, since the operating system\u001b[0m\u001b[0;34m\u001b[0m\u001b[0;34m\u001b[0m\u001b[0;34m\u001b[0m\u001b[0m\n",
      "\u001b[0;31mFileExistsError\u001b[0m: [Errno 17] File exists: '/home/jovyan/apex'"
     ]
    }
   ],
   "source": [
    "import shutil\n",
    "shutil.copytree('/home/jovyan/apex/apex','/home/jovyan/apex')"
   ]
  },
  {
   "cell_type": "code",
   "execution_count": 168,
   "metadata": {},
   "outputs": [],
   "source": [
    "from distutils.dir_util import copy_tree"
   ]
  },
  {
   "cell_type": "code",
   "execution_count": 169,
   "metadata": {},
   "outputs": [
    {
     "data": {
      "text/plain": [
       "['/home/jovyan/apex/parallel/sync_batchnorm.py',\n",
       " '/home/jovyan/apex/parallel/README.md',\n",
       " '/home/jovyan/apex/parallel/optimized_sync_batchnorm_kernel.py',\n",
       " '/home/jovyan/apex/parallel/LARC.py',\n",
       " '/home/jovyan/apex/parallel/multiproc.py',\n",
       " '/home/jovyan/apex/parallel/__pycache__/__init__.cpython-37.pyc',\n",
       " '/home/jovyan/apex/parallel/__pycache__/distributed.cpython-37.pyc',\n",
       " '/home/jovyan/apex/parallel/__pycache__/sync_batchnorm_kernel.cpython-37.pyc',\n",
       " '/home/jovyan/apex/parallel/__pycache__/sync_batchnorm.cpython-37.pyc',\n",
       " '/home/jovyan/apex/parallel/optimized_sync_batchnorm.py',\n",
       " '/home/jovyan/apex/parallel/distributed.py',\n",
       " '/home/jovyan/apex/parallel/sync_batchnorm_kernel.py',\n",
       " '/home/jovyan/apex/parallel/__init__.py',\n",
       " '/home/jovyan/apex/contrib/multihead_attn/MHA_bwd.png',\n",
       " '/home/jovyan/apex/contrib/multihead_attn/README.md',\n",
       " '/home/jovyan/apex/contrib/multihead_attn/self_multihead_attn.py',\n",
       " '/home/jovyan/apex/contrib/multihead_attn/fast_self_multihead_attn_func.py',\n",
       " '/home/jovyan/apex/contrib/multihead_attn/MHA_fwd.png',\n",
       " '/home/jovyan/apex/contrib/multihead_attn/encdec_multihead_attn_func.py',\n",
       " '/home/jovyan/apex/contrib/multihead_attn/encdec_multihead_attn.py',\n",
       " '/home/jovyan/apex/contrib/multihead_attn/fast_encdec_multihead_attn_norm_add_func.py',\n",
       " '/home/jovyan/apex/contrib/multihead_attn/self_multihead_attn_func.py',\n",
       " '/home/jovyan/apex/contrib/multihead_attn/__init__.py',\n",
       " '/home/jovyan/apex/contrib/multihead_attn/fast_encdec_multihead_attn_func.py',\n",
       " '/home/jovyan/apex/contrib/multihead_attn/fast_self_multihead_attn_norm_add_func.py',\n",
       " '/home/jovyan/apex/contrib/groupbn/batch_norm.py',\n",
       " '/home/jovyan/apex/contrib/groupbn/__init__.py',\n",
       " '/home/jovyan/apex/contrib/test/multihead_attn/test_self_multihead_attn.py',\n",
       " '/home/jovyan/apex/contrib/test/multihead_attn/test_encdec_multihead_attn.py',\n",
       " '/home/jovyan/apex/contrib/test/multihead_attn/test_self_multihead_attn_norm_add.py',\n",
       " '/home/jovyan/apex/contrib/test/multihead_attn/test_encdec_multihead_attn_norm_add.py',\n",
       " '/home/jovyan/apex/contrib/test/test_label_smoothing.py',\n",
       " '/home/jovyan/apex/contrib/xentropy/softmax_xentropy.py',\n",
       " '/home/jovyan/apex/contrib/xentropy/__init__.py',\n",
       " '/home/jovyan/apex/contrib/optimizers/fused_adam.py',\n",
       " '/home/jovyan/apex/contrib/optimizers/fused_lamb.py',\n",
       " '/home/jovyan/apex/contrib/optimizers/fp16_optimizer.py',\n",
       " '/home/jovyan/apex/contrib/optimizers/fused_sgd.py',\n",
       " '/home/jovyan/apex/contrib/optimizers/__init__.py',\n",
       " '/home/jovyan/apex/contrib/__init__.py',\n",
       " '/home/jovyan/apex/contrib/csrc/multihead_attn/self_multihead_attn_norm_add_cuda.cu',\n",
       " '/home/jovyan/apex/contrib/csrc/multihead_attn/encdec_multihead_attn_norm_add.cpp',\n",
       " '/home/jovyan/apex/contrib/csrc/multihead_attn/encdec_multihead_attn_cuda.cu',\n",
       " '/home/jovyan/apex/contrib/csrc/multihead_attn/softmax.h',\n",
       " '/home/jovyan/apex/contrib/csrc/multihead_attn/dropout.h',\n",
       " '/home/jovyan/apex/contrib/csrc/multihead_attn/encdec_multihead_attn.cpp',\n",
       " '/home/jovyan/apex/contrib/csrc/multihead_attn/encdec_multihead_attn_norm_add_cuda.cu',\n",
       " '/home/jovyan/apex/contrib/csrc/multihead_attn/self_multihead_attn.cpp',\n",
       " '/home/jovyan/apex/contrib/csrc/multihead_attn/self_multihead_attn_norm_add.cpp',\n",
       " '/home/jovyan/apex/contrib/csrc/multihead_attn/strided_batched_gemm.h',\n",
       " '/home/jovyan/apex/contrib/csrc/multihead_attn/self_multihead_attn_cuda.cu',\n",
       " '/home/jovyan/apex/contrib/csrc/multihead_attn/layer_norm.h',\n",
       " '/home/jovyan/apex/contrib/csrc/groupbn/batch_norm_add_relu.h',\n",
       " '/home/jovyan/apex/contrib/csrc/groupbn/ipc.cu',\n",
       " '/home/jovyan/apex/contrib/csrc/groupbn/batch_norm.cu',\n",
       " '/home/jovyan/apex/contrib/csrc/groupbn/cuda_utils.h',\n",
       " '/home/jovyan/apex/contrib/csrc/groupbn/nhwc_batch_norm_kernel.h',\n",
       " '/home/jovyan/apex/contrib/csrc/groupbn/interface.cpp',\n",
       " '/home/jovyan/apex/contrib/csrc/groupbn/batch_norm.h',\n",
       " '/home/jovyan/apex/contrib/csrc/groupbn/batch_norm_add_relu.cu',\n",
       " '/home/jovyan/apex/contrib/csrc/xentropy/interface.cpp',\n",
       " '/home/jovyan/apex/contrib/csrc/xentropy/xentropy_kernel.cu',\n",
       " '/home/jovyan/apex/contrib/csrc/optimizers/fused_lamb_cuda.cpp',\n",
       " '/home/jovyan/apex/contrib/csrc/optimizers/fused_adam_cuda.cpp',\n",
       " '/home/jovyan/apex/contrib/csrc/optimizers/fused_lamb_cuda_kernel.cu',\n",
       " '/home/jovyan/apex/contrib/csrc/optimizers/fused_adam_cuda_kernel.cu',\n",
       " '/home/jovyan/apex/contrib/examples/multihead_attn/perf_test_multihead_attn.py',\n",
       " '/home/jovyan/apex/RNN/README.md',\n",
       " '/home/jovyan/apex/RNN/cells.py',\n",
       " '/home/jovyan/apex/RNN/models.py',\n",
       " '/home/jovyan/apex/RNN/__init__.py',\n",
       " '/home/jovyan/apex/RNN/RNNBackend.py',\n",
       " '/home/jovyan/apex/__pycache__/__init__.cpython-37.pyc',\n",
       " '/home/jovyan/apex/mlp/__init__.py',\n",
       " '/home/jovyan/apex/mlp/mlp.py',\n",
       " '/home/jovyan/apex/amp/lists/torch_overrides.py',\n",
       " '/home/jovyan/apex/amp/lists/tensor_overrides.py',\n",
       " '/home/jovyan/apex/amp/lists/functional_overrides.py',\n",
       " '/home/jovyan/apex/amp/lists/__init__.py',\n",
       " '/home/jovyan/apex/amp/README.md',\n",
       " '/home/jovyan/apex/amp/_amp_state.py',\n",
       " '/home/jovyan/apex/amp/compat.py',\n",
       " '/home/jovyan/apex/amp/scaler.py',\n",
       " '/home/jovyan/apex/amp/frontend.py',\n",
       " '/home/jovyan/apex/amp/opt.py',\n",
       " '/home/jovyan/apex/amp/_initialize.py',\n",
       " '/home/jovyan/apex/amp/__version__.py',\n",
       " '/home/jovyan/apex/amp/__init__.py',\n",
       " '/home/jovyan/apex/amp/utils.py',\n",
       " '/home/jovyan/apex/amp/handle.py',\n",
       " '/home/jovyan/apex/amp/rnn_compat.py',\n",
       " '/home/jovyan/apex/amp/wrap.py',\n",
       " '/home/jovyan/apex/amp/amp.py',\n",
       " '/home/jovyan/apex/amp/_process_optimizer.py',\n",
       " '/home/jovyan/apex/fp16_utils/README.md',\n",
       " '/home/jovyan/apex/fp16_utils/fp16util.py',\n",
       " '/home/jovyan/apex/fp16_utils/loss_scaler.py',\n",
       " '/home/jovyan/apex/fp16_utils/fp16_optimizer.py',\n",
       " '/home/jovyan/apex/fp16_utils/__init__.py',\n",
       " '/home/jovyan/apex/reparameterization/README.md',\n",
       " '/home/jovyan/apex/reparameterization/reparameterization.py',\n",
       " '/home/jovyan/apex/reparameterization/__init__.py',\n",
       " '/home/jovyan/apex/reparameterization/weight_norm.py',\n",
       " '/home/jovyan/apex/multi_tensor_apply/multi_tensor_apply.py',\n",
       " '/home/jovyan/apex/multi_tensor_apply/__pycache__/__init__.cpython-37.pyc',\n",
       " '/home/jovyan/apex/multi_tensor_apply/__pycache__/multi_tensor_apply.cpython-37.pyc',\n",
       " '/home/jovyan/apex/multi_tensor_apply/__init__.py',\n",
       " '/home/jovyan/apex/optimizers/fused_adam.py',\n",
       " '/home/jovyan/apex/optimizers/fused_novograd.py',\n",
       " '/home/jovyan/apex/optimizers/fused_lamb.py',\n",
       " '/home/jovyan/apex/optimizers/fused_sgd.py',\n",
       " '/home/jovyan/apex/optimizers/__init__.py',\n",
       " '/home/jovyan/apex/__init__.py',\n",
       " '/home/jovyan/apex/pyprof/README.md',\n",
       " '/home/jovyan/apex/pyprof/prof/convert.py',\n",
       " '/home/jovyan/apex/pyprof/prof/pointwise.py',\n",
       " '/home/jovyan/apex/pyprof/prof/randomSample.py',\n",
       " '/home/jovyan/apex/pyprof/prof/conv.py',\n",
       " '/home/jovyan/apex/pyprof/prof/base.py',\n",
       " '/home/jovyan/apex/pyprof/prof/dropout.py',\n",
       " '/home/jovyan/apex/pyprof/prof/softmax.py',\n",
       " '/home/jovyan/apex/pyprof/prof/output.py',\n",
       " '/home/jovyan/apex/pyprof/prof/optim.py',\n",
       " '/home/jovyan/apex/pyprof/prof/__main__.py',\n",
       " '/home/jovyan/apex/pyprof/prof/usage.py',\n",
       " '/home/jovyan/apex/pyprof/prof/pooling.py',\n",
       " '/home/jovyan/apex/pyprof/prof/prof.py',\n",
       " '/home/jovyan/apex/pyprof/prof/activation.py',\n",
       " '/home/jovyan/apex/pyprof/prof/embedding.py',\n",
       " '/home/jovyan/apex/pyprof/prof/recurrentCell.py',\n",
       " '/home/jovyan/apex/pyprof/prof/reduction.py',\n",
       " '/home/jovyan/apex/pyprof/prof/linear.py',\n",
       " '/home/jovyan/apex/pyprof/prof/loss.py',\n",
       " '/home/jovyan/apex/pyprof/prof/misc.py',\n",
       " '/home/jovyan/apex/pyprof/prof/__init__.py',\n",
       " '/home/jovyan/apex/pyprof/prof/data.py',\n",
       " '/home/jovyan/apex/pyprof/prof/blas.py',\n",
       " '/home/jovyan/apex/pyprof/prof/index_slice_join_mutate.py',\n",
       " '/home/jovyan/apex/pyprof/prof/normalization.py',\n",
       " '/home/jovyan/apex/pyprof/prof/utility.py',\n",
       " '/home/jovyan/apex/pyprof/nvtx/nvmarker.py',\n",
       " '/home/jovyan/apex/pyprof/nvtx/__init__.py',\n",
       " '/home/jovyan/apex/pyprof/parse/kernel.py',\n",
       " '/home/jovyan/apex/pyprof/parse/nvvp.py',\n",
       " '/home/jovyan/apex/pyprof/parse/parse.py',\n",
       " '/home/jovyan/apex/pyprof/parse/__main__.py',\n",
       " '/home/jovyan/apex/pyprof/parse/__init__.py',\n",
       " '/home/jovyan/apex/pyprof/parse/db.py',\n",
       " '/home/jovyan/apex/pyprof/__init__.py',\n",
       " '/home/jovyan/apex/pyprof/FAQs.md',\n",
       " '/home/jovyan/apex/pyprof/examples/imagenet/imagenet.py',\n",
       " '/home/jovyan/apex/pyprof/examples/imagenet/test.sh',\n",
       " '/home/jovyan/apex/pyprof/examples/jit/README.md',\n",
       " '/home/jovyan/apex/pyprof/examples/jit/jit_script_function.py',\n",
       " '/home/jovyan/apex/pyprof/examples/jit/jit_trace_function.py',\n",
       " '/home/jovyan/apex/pyprof/examples/jit/jit_trace_method.py',\n",
       " '/home/jovyan/apex/pyprof/examples/jit/test.sh',\n",
       " '/home/jovyan/apex/pyprof/examples/jit/jit_script_method.py',\n",
       " '/home/jovyan/apex/pyprof/examples/.gitignore',\n",
       " '/home/jovyan/apex/pyprof/examples/operators.py',\n",
       " '/home/jovyan/apex/pyprof/examples/user_annotation/resnet.py',\n",
       " '/home/jovyan/apex/pyprof/examples/user_annotation/README.md',\n",
       " '/home/jovyan/apex/pyprof/examples/user_annotation/test.sh',\n",
       " '/home/jovyan/apex/pyprof/examples/simple.py',\n",
       " '/home/jovyan/apex/pyprof/examples/apex/fused_layer_norm.py',\n",
       " '/home/jovyan/apex/pyprof/examples/apex/README.md',\n",
       " '/home/jovyan/apex/pyprof/examples/apex/fused_adam.py',\n",
       " '/home/jovyan/apex/pyprof/examples/apex/test.sh',\n",
       " '/home/jovyan/apex/pyprof/examples/lenet.py',\n",
       " '/home/jovyan/apex/pyprof/examples/custom_func_module/README.md',\n",
       " '/home/jovyan/apex/pyprof/examples/custom_func_module/custom_module.py',\n",
       " '/home/jovyan/apex/pyprof/examples/custom_func_module/test.sh',\n",
       " '/home/jovyan/apex/pyprof/examples/custom_func_module/custom_function.py',\n",
       " '/home/jovyan/apex/normalization/fused_layer_norm.py',\n",
       " '/home/jovyan/apex/normalization/__init__.py']"
      ]
     },
     "execution_count": 169,
     "metadata": {},
     "output_type": "execute_result"
    }
   ],
   "source": [
    "copy_tree('/home/jovyan/apex/apex','/home/jovyan/apex') # run #1\n",
    "#copy entrire contents of apex/apex to apex for amp"
   ]
  },
  {
   "cell_type": "code",
   "execution_count": 159,
   "metadata": {},
   "outputs": [],
   "source": [
    "os.chdir(\"/home/jovyan\")"
   ]
  },
  {
   "cell_type": "code",
   "execution_count": 160,
   "metadata": {},
   "outputs": [
    {
     "name": "stdout",
     "output_type": "stream",
     "text": [
      "added_tokens.json\t\tmerges.txt\r\n",
      "apex\t\t\t\tmodel_training_args.bin\r\n",
      "cache_dir\t\t\toutputs\r\n",
      "Chatbot_ST_GPU.ipynb\t\tproject\r\n",
      "config.json\t\t\tpytorch_model.bin\r\n",
      "data\t\t\t\truns\r\n",
      "gpt_personachat_cache.tar.gz\tsaturn_scratch\r\n",
      "gpt_personachat_cache.tar.gz.1\tssh\r\n",
      "gpt_personachat_cache.tar.gz.2\tUntitled1.ipynb\r\n",
      "gpt_personachat_cache.tar.gz.3\tUntitled.ipynb\r\n",
      "jupyterlab-workspace.json\tVer1.ipynb\r\n",
      "lost+found\t\t\tvocab.json\r\n"
     ]
    }
   ],
   "source": [
    "!ls"
   ]
  },
  {
   "cell_type": "code",
   "execution_count": 165,
   "metadata": {},
   "outputs": [
    {
     "name": "stdout",
     "output_type": "stream",
     "text": [
      "/home/jovyan/apex/apex\n"
     ]
    }
   ],
   "source": [
    "cd apex"
   ]
  },
  {
   "cell_type": "code",
   "execution_count": 166,
   "metadata": {},
   "outputs": [
    {
     "name": "stdout",
     "output_type": "stream",
     "text": [
      "amp\t    __init__.py\t\tnormalization  __pycache__\t   RNN\r\n",
      "contrib     mlp\t\t\toptimizers     pyprof\r\n",
      "fp16_utils  multi_tensor_apply\tparallel       reparameterization\r\n"
     ]
    }
   ],
   "source": [
    "!ls"
   ]
  },
  {
   "cell_type": "code",
   "execution_count": 170,
   "metadata": {},
   "outputs": [],
   "source": [
    "from apex import amp"
   ]
  },
  {
   "cell_type": "code",
   "execution_count": 135,
   "metadata": {
    "scrolled": true
   },
   "outputs": [
    {
     "name": "stdout",
     "output_type": "stream",
     "text": [
      "Requirement already satisfied: amp in /srv/conda/envs/saturn/lib/python3.7/site-packages (1.1.4)\n",
      "Requirement already satisfied: caldav==0.1.4 in /srv/conda/envs/saturn/lib/python3.7/site-packages (from amp) (0.1.4)\n",
      "Requirement already satisfied: Django>=1.1.1 in /srv/conda/envs/saturn/lib/python3.7/site-packages (from amp) (3.0.5)\n",
      "Requirement already satisfied: lxml in /srv/conda/envs/saturn/lib/python3.7/site-packages (from caldav==0.1.4->amp) (4.5.0)\n",
      "Requirement already satisfied: vobject in /srv/conda/envs/saturn/lib/python3.7/site-packages (from caldav==0.1.4->amp) (0.9.6.1)\n",
      "Requirement already satisfied: nose in /srv/conda/envs/saturn/lib/python3.7/site-packages (from caldav==0.1.4->amp) (1.3.7)\n",
      "Requirement already satisfied: coverage in /srv/conda/envs/saturn/lib/python3.7/site-packages (from caldav==0.1.4->amp) (5.1)\n",
      "Requirement already satisfied: asgiref~=3.2 in /srv/conda/envs/saturn/lib/python3.7/site-packages (from Django>=1.1.1->amp) (3.2.7)\n",
      "Requirement already satisfied: sqlparse>=0.2.2 in /srv/conda/envs/saturn/lib/python3.7/site-packages (from Django>=1.1.1->amp) (0.3.1)\n",
      "Requirement already satisfied: pytz in /srv/conda/envs/saturn/lib/python3.7/site-packages (from Django>=1.1.1->amp) (2019.3)\n",
      "Requirement already satisfied: python-dateutil>=2.4.0 in /srv/conda/envs/saturn/lib/python3.7/site-packages (from vobject->caldav==0.1.4->amp) (2.8.1)\n",
      "Requirement already satisfied: six>=1.5 in /srv/conda/envs/saturn/lib/python3.7/site-packages (from python-dateutil>=2.4.0->vobject->caldav==0.1.4->amp) (1.14.0)\n"
     ]
    }
   ],
   "source": [
    "!pip install amp"
   ]
  },
  {
   "cell_type": "code",
   "execution_count": 173,
   "metadata": {
    "scrolled": true
   },
   "outputs": [
    {
     "data": {
      "application/vnd.jupyter.widget-view+json": {
       "model_id": "d7bd8efe97964904b40afa6e21ae00a5",
       "version_major": 2,
       "version_minor": 0
      },
      "text/plain": [
       "HBox(children=(FloatProgress(value=0.0, max=1.0), HTML(value='')))"
      ]
     },
     "metadata": {},
     "output_type": "display_data"
    },
    {
     "name": "stdout",
     "output_type": "stream",
     "text": [
      "\n",
      "Selected optimization level O1:  Insert automatic casts around Pytorch functions and Tensor methods.\n",
      "\n",
      "Defaults for this optimization level are:\n",
      "enabled                : True\n",
      "opt_level              : O1\n",
      "cast_model_type        : None\n",
      "patch_torch_functions  : True\n",
      "keep_batchnorm_fp32    : None\n",
      "master_weights         : None\n",
      "loss_scale             : dynamic\n",
      "Processing user overrides (additional kwargs that are not None)...\n",
      "After processing overrides, optimization options are:\n",
      "enabled                : True\n",
      "opt_level              : O1\n",
      "cast_model_type        : None\n",
      "patch_torch_functions  : True\n",
      "keep_batchnorm_fp32    : None\n",
      "master_weights         : None\n",
      "loss_scale             : dynamic\n",
      "Warning:  multi_tensor_applier fused unscale kernel is unavailable, possibly because apex was installed without --cuda_ext --cpp_ext. Using Python fallback.  Original ImportError was: ModuleNotFoundError(\"No module named 'amp_C'\")\n"
     ]
    },
    {
     "data": {
      "application/vnd.jupyter.widget-view+json": {
       "model_id": "7776143ee3e64aaab4f81cc64a8525e3",
       "version_major": 2,
       "version_minor": 0
      },
      "text/plain": [
       "HBox(children=(FloatProgress(value=0.0, description='Epoch', max=1.0, style=ProgressStyle(description_width='i…"
      ]
     },
     "metadata": {},
     "output_type": "display_data"
    },
    {
     "data": {
      "application/vnd.jupyter.widget-view+json": {
       "model_id": "d51a6c51d95640f3a36654782a03161c",
       "version_major": 2,
       "version_minor": 0
      },
      "text/plain": [
       "HBox(children=(FloatProgress(value=0.0, description='Current iteration', max=1.0, style=ProgressStyle(descript…"
      ]
     },
     "metadata": {},
     "output_type": "display_data"
    },
    {
     "name": "stdout",
     "output_type": "stream",
     "text": [
      "Running loss: 4.600213Gradient overflow.  Skipping step, loss scaler 0 reducing loss scale to 32768.0\n",
      "\n"
     ]
    },
    {
     "name": "stderr",
     "output_type": "stream",
     "text": [
      "/srv/conda/envs/saturn/lib/python3.7/site-packages/torch/optim/lr_scheduler.py:73: UserWarning: Seems like `optimizer.step()` has been overridden after learning rate scheduler initialization. Please, make sure to call `optimizer.step()` before `lr_scheduler.step()`. See more details at https://pytorch.org/docs/stable/optim.html#how-to-adjust-learning-rate\n",
      "  \"https://pytorch.org/docs/stable/optim.html#how-to-adjust-learning-rate\", UserWarning)\n"
     ]
    },
    {
     "name": "stdout",
     "output_type": "stream",
     "text": [
      "\n"
     ]
    }
   ],
   "source": [
    "model.train_model(\"data/minimal_train.json\")"
   ]
  },
  {
   "cell_type": "code",
   "execution_count": 174,
   "metadata": {},
   "outputs": [
    {
     "data": {
      "application/vnd.jupyter.widget-view+json": {
       "model_id": "92c3acb3b9b246cbbd7aa33446ed8ae1",
       "version_major": 2,
       "version_minor": 0
      },
      "text/plain": [
       "HBox(children=(FloatProgress(value=0.0, description='Downloading', max=209850483.0, style=ProgressStyle(descri…"
      ]
     },
     "metadata": {},
     "output_type": "display_data"
    },
    {
     "name": "stdout",
     "output_type": "stream",
     "text": [
      "\n"
     ]
    },
    {
     "data": {
      "application/vnd.jupyter.widget-view+json": {
       "model_id": "6cccad76e26b47e79128b1fd060d3ba9",
       "version_major": 2,
       "version_minor": 0
      },
      "text/plain": [
       "HBox(children=(FloatProgress(value=0.0, max=1000.0), HTML(value='')))"
      ]
     },
     "metadata": {},
     "output_type": "display_data"
    },
    {
     "name": "stdout",
     "output_type": "stream",
     "text": [
      "\n"
     ]
    },
    {
     "data": {
      "application/vnd.jupyter.widget-view+json": {
       "model_id": "72066639f51b448aa0e6f558d13b7b4a",
       "version_major": 2,
       "version_minor": 0
      },
      "text/plain": [
       "HBox(children=(FloatProgress(value=0.0, max=976.0), HTML(value='')))"
      ]
     },
     "metadata": {},
     "output_type": "display_data"
    },
    {
     "name": "stdout",
     "output_type": "stream",
     "text": [
      "\n"
     ]
    },
    {
     "ename": "RuntimeError",
     "evalue": "CUDA out of memory. Tried to allocate 4.30 GiB (GPU 0; 14.73 GiB total capacity; 9.73 GiB already allocated; 3.95 GiB free; 200.93 MiB cached)",
     "output_type": "error",
     "traceback": [
      "\u001b[0;31m---------------------------------------------------------------------------\u001b[0m",
      "\u001b[0;31mRuntimeError\u001b[0m                              Traceback (most recent call last)",
      "\u001b[0;32m<ipython-input-174-f7f3f872d376>\u001b[0m in \u001b[0;36m<module>\u001b[0;34m\u001b[0m\n\u001b[0;32m----> 1\u001b[0;31m \u001b[0mmodel\u001b[0m\u001b[0;34m.\u001b[0m\u001b[0meval_model\u001b[0m\u001b[0;34m(\u001b[0m\u001b[0;34m)\u001b[0m\u001b[0;34m\u001b[0m\u001b[0;34m\u001b[0m\u001b[0m\n\u001b[0m",
      "\u001b[0;32m/srv/conda/envs/saturn/lib/python3.7/site-packages/simpletransformers/conv_ai/conv_ai_model.py\u001b[0m in \u001b[0;36meval_model\u001b[0;34m(self, eval_file, output_dir, verbose, silent, **kwargs)\u001b[0m\n\u001b[1;32m    509\u001b[0m         \u001b[0mself\u001b[0m\u001b[0;34m.\u001b[0m\u001b[0m_move_model_to_device\u001b[0m\u001b[0;34m(\u001b[0m\u001b[0;34m)\u001b[0m\u001b[0;34m\u001b[0m\u001b[0;34m\u001b[0m\u001b[0m\n\u001b[1;32m    510\u001b[0m \u001b[0;34m\u001b[0m\u001b[0m\n\u001b[0;32m--> 511\u001b[0;31m         \u001b[0mresult\u001b[0m \u001b[0;34m=\u001b[0m \u001b[0mself\u001b[0m\u001b[0;34m.\u001b[0m\u001b[0mevaluate\u001b[0m\u001b[0;34m(\u001b[0m\u001b[0meval_file\u001b[0m\u001b[0;34m,\u001b[0m \u001b[0moutput_dir\u001b[0m\u001b[0;34m,\u001b[0m \u001b[0mverbose\u001b[0m\u001b[0;34m=\u001b[0m\u001b[0mverbose\u001b[0m\u001b[0;34m,\u001b[0m \u001b[0msilent\u001b[0m\u001b[0;34m=\u001b[0m\u001b[0msilent\u001b[0m\u001b[0;34m,\u001b[0m \u001b[0;34m**\u001b[0m\u001b[0mkwargs\u001b[0m\u001b[0;34m)\u001b[0m\u001b[0;34m\u001b[0m\u001b[0;34m\u001b[0m\u001b[0m\n\u001b[0m\u001b[1;32m    512\u001b[0m         \u001b[0mself\u001b[0m\u001b[0;34m.\u001b[0m\u001b[0mresults\u001b[0m\u001b[0;34m.\u001b[0m\u001b[0mupdate\u001b[0m\u001b[0;34m(\u001b[0m\u001b[0mresult\u001b[0m\u001b[0;34m)\u001b[0m\u001b[0;34m\u001b[0m\u001b[0;34m\u001b[0m\u001b[0m\n\u001b[1;32m    513\u001b[0m \u001b[0;34m\u001b[0m\u001b[0m\n",
      "\u001b[0;32m/srv/conda/envs/saturn/lib/python3.7/site-packages/simpletransformers/conv_ai/conv_ai_model.py\u001b[0m in \u001b[0;36mevaluate\u001b[0;34m(self, eval_file, output_dir, verbose, silent, **kwargs)\u001b[0m\n\u001b[1;32m    561\u001b[0m             \u001b[0mmc_logits\u001b[0m \u001b[0;34m=\u001b[0m \u001b[0;34m[\u001b[0m\u001b[0mnp\u001b[0m\u001b[0;34m.\u001b[0m\u001b[0margmax\u001b[0m\u001b[0;34m(\u001b[0m\u001b[0mpred\u001b[0m\u001b[0;34m)\u001b[0m \u001b[0;32mfor\u001b[0m \u001b[0mpred\u001b[0m \u001b[0;32min\u001b[0m \u001b[0mmc_logits\u001b[0m\u001b[0;34m.\u001b[0m\u001b[0mcpu\u001b[0m\u001b[0;34m(\u001b[0m\u001b[0;34m)\u001b[0m\u001b[0;34m.\u001b[0m\u001b[0mnumpy\u001b[0m\u001b[0;34m(\u001b[0m\u001b[0;34m)\u001b[0m\u001b[0;34m]\u001b[0m\u001b[0;34m\u001b[0m\u001b[0;34m\u001b[0m\u001b[0m\n\u001b[1;32m    562\u001b[0m             \u001b[0mf1_current\u001b[0m \u001b[0;34m=\u001b[0m \u001b[0mf1_score\u001b[0m\u001b[0;34m(\u001b[0m\u001b[0mmc_labels\u001b[0m\u001b[0;34m.\u001b[0m\u001b[0mcpu\u001b[0m\u001b[0;34m(\u001b[0m\u001b[0;34m)\u001b[0m\u001b[0;34m.\u001b[0m\u001b[0mnumpy\u001b[0m\u001b[0;34m(\u001b[0m\u001b[0;34m)\u001b[0m\u001b[0;34m,\u001b[0m \u001b[0mmc_logits\u001b[0m\u001b[0;34m,\u001b[0m \u001b[0maverage\u001b[0m\u001b[0;34m=\u001b[0m\u001b[0;34m\"macro\"\u001b[0m\u001b[0;34m)\u001b[0m\u001b[0;34m\u001b[0m\u001b[0;34m\u001b[0m\u001b[0m\n\u001b[0;32m--> 563\u001b[0;31m             \u001b[0mlm_loss_current\u001b[0m \u001b[0;34m=\u001b[0m \u001b[0mloss_fct\u001b[0m\u001b[0;34m(\u001b[0m\u001b[0mlm_logits_flat_shifted\u001b[0m\u001b[0;34m,\u001b[0m \u001b[0mlm_labels_flat_shifted\u001b[0m\u001b[0;34m)\u001b[0m\u001b[0;34m\u001b[0m\u001b[0;34m\u001b[0m\u001b[0m\n\u001b[0m\u001b[1;32m    564\u001b[0m \u001b[0;34m\u001b[0m\u001b[0m\n\u001b[1;32m    565\u001b[0m             \u001b[0mresults\u001b[0m\u001b[0;34m[\u001b[0m\u001b[0;34m\"language_model_loss\"\u001b[0m\u001b[0;34m]\u001b[0m\u001b[0;34m.\u001b[0m\u001b[0mappend\u001b[0m\u001b[0;34m(\u001b[0m\u001b[0mlm_loss_current\u001b[0m\u001b[0;34m.\u001b[0m\u001b[0mcpu\u001b[0m\u001b[0;34m(\u001b[0m\u001b[0;34m)\u001b[0m\u001b[0;34m.\u001b[0m\u001b[0mnumpy\u001b[0m\u001b[0;34m(\u001b[0m\u001b[0;34m)\u001b[0m\u001b[0;34m.\u001b[0m\u001b[0mitem\u001b[0m\u001b[0;34m(\u001b[0m\u001b[0;34m)\u001b[0m\u001b[0;34m)\u001b[0m\u001b[0;34m\u001b[0m\u001b[0;34m\u001b[0m\u001b[0m\n",
      "\u001b[0;32m/srv/conda/envs/saturn/lib/python3.7/site-packages/torch/nn/modules/module.py\u001b[0m in \u001b[0;36m__call__\u001b[0;34m(self, *input, **kwargs)\u001b[0m\n\u001b[1;32m    545\u001b[0m             \u001b[0mresult\u001b[0m \u001b[0;34m=\u001b[0m \u001b[0mself\u001b[0m\u001b[0;34m.\u001b[0m\u001b[0m_slow_forward\u001b[0m\u001b[0;34m(\u001b[0m\u001b[0;34m*\u001b[0m\u001b[0minput\u001b[0m\u001b[0;34m,\u001b[0m \u001b[0;34m**\u001b[0m\u001b[0mkwargs\u001b[0m\u001b[0;34m)\u001b[0m\u001b[0;34m\u001b[0m\u001b[0;34m\u001b[0m\u001b[0m\n\u001b[1;32m    546\u001b[0m         \u001b[0;32melse\u001b[0m\u001b[0;34m:\u001b[0m\u001b[0;34m\u001b[0m\u001b[0;34m\u001b[0m\u001b[0m\n\u001b[0;32m--> 547\u001b[0;31m             \u001b[0mresult\u001b[0m \u001b[0;34m=\u001b[0m \u001b[0mself\u001b[0m\u001b[0;34m.\u001b[0m\u001b[0mforward\u001b[0m\u001b[0;34m(\u001b[0m\u001b[0;34m*\u001b[0m\u001b[0minput\u001b[0m\u001b[0;34m,\u001b[0m \u001b[0;34m**\u001b[0m\u001b[0mkwargs\u001b[0m\u001b[0;34m)\u001b[0m\u001b[0;34m\u001b[0m\u001b[0;34m\u001b[0m\u001b[0m\n\u001b[0m\u001b[1;32m    548\u001b[0m         \u001b[0;32mfor\u001b[0m \u001b[0mhook\u001b[0m \u001b[0;32min\u001b[0m \u001b[0mself\u001b[0m\u001b[0;34m.\u001b[0m\u001b[0m_forward_hooks\u001b[0m\u001b[0;34m.\u001b[0m\u001b[0mvalues\u001b[0m\u001b[0;34m(\u001b[0m\u001b[0;34m)\u001b[0m\u001b[0;34m:\u001b[0m\u001b[0;34m\u001b[0m\u001b[0;34m\u001b[0m\u001b[0m\n\u001b[1;32m    549\u001b[0m             \u001b[0mhook_result\u001b[0m \u001b[0;34m=\u001b[0m \u001b[0mhook\u001b[0m\u001b[0;34m(\u001b[0m\u001b[0mself\u001b[0m\u001b[0;34m,\u001b[0m \u001b[0minput\u001b[0m\u001b[0;34m,\u001b[0m \u001b[0mresult\u001b[0m\u001b[0;34m)\u001b[0m\u001b[0;34m\u001b[0m\u001b[0;34m\u001b[0m\u001b[0m\n",
      "\u001b[0;32m/srv/conda/envs/saturn/lib/python3.7/site-packages/torch/nn/modules/loss.py\u001b[0m in \u001b[0;36mforward\u001b[0;34m(self, input, target)\u001b[0m\n\u001b[1;32m    914\u001b[0m     \u001b[0;32mdef\u001b[0m \u001b[0mforward\u001b[0m\u001b[0;34m(\u001b[0m\u001b[0mself\u001b[0m\u001b[0;34m,\u001b[0m \u001b[0minput\u001b[0m\u001b[0;34m,\u001b[0m \u001b[0mtarget\u001b[0m\u001b[0;34m)\u001b[0m\u001b[0;34m:\u001b[0m\u001b[0;34m\u001b[0m\u001b[0;34m\u001b[0m\u001b[0m\n\u001b[1;32m    915\u001b[0m         return F.cross_entropy(input, target, weight=self.weight,\n\u001b[0;32m--> 916\u001b[0;31m                                ignore_index=self.ignore_index, reduction=self.reduction)\n\u001b[0m\u001b[1;32m    917\u001b[0m \u001b[0;34m\u001b[0m\u001b[0m\n\u001b[1;32m    918\u001b[0m \u001b[0;34m\u001b[0m\u001b[0m\n",
      "\u001b[0;32m~/apex/amp/wrap.py\u001b[0m in \u001b[0;36mwrapper\u001b[0;34m(*args, **kwargs)\u001b[0m\n\u001b[1;32m     26\u001b[0m                                      \u001b[0margs\u001b[0m\u001b[0;34m,\u001b[0m\u001b[0;34m\u001b[0m\u001b[0;34m\u001b[0m\u001b[0m\n\u001b[1;32m     27\u001b[0m                                      kwargs)\n\u001b[0;32m---> 28\u001b[0;31m         \u001b[0;32mreturn\u001b[0m \u001b[0morig_fn\u001b[0m\u001b[0;34m(\u001b[0m\u001b[0;34m*\u001b[0m\u001b[0mnew_args\u001b[0m\u001b[0;34m,\u001b[0m \u001b[0;34m**\u001b[0m\u001b[0mkwargs\u001b[0m\u001b[0;34m)\u001b[0m\u001b[0;34m\u001b[0m\u001b[0;34m\u001b[0m\u001b[0m\n\u001b[0m\u001b[1;32m     29\u001b[0m     \u001b[0;32mreturn\u001b[0m \u001b[0mwrapper\u001b[0m\u001b[0;34m\u001b[0m\u001b[0;34m\u001b[0m\u001b[0m\n\u001b[1;32m     30\u001b[0m \u001b[0;34m\u001b[0m\u001b[0m\n",
      "\u001b[0;32m/srv/conda/envs/saturn/lib/python3.7/site-packages/torch/nn/functional.py\u001b[0m in \u001b[0;36mcross_entropy\u001b[0;34m(input, target, weight, size_average, ignore_index, reduce, reduction)\u001b[0m\n\u001b[1;32m   1993\u001b[0m     \u001b[0;32mif\u001b[0m \u001b[0msize_average\u001b[0m \u001b[0;32mis\u001b[0m \u001b[0;32mnot\u001b[0m \u001b[0;32mNone\u001b[0m \u001b[0;32mor\u001b[0m \u001b[0mreduce\u001b[0m \u001b[0;32mis\u001b[0m \u001b[0;32mnot\u001b[0m \u001b[0;32mNone\u001b[0m\u001b[0;34m:\u001b[0m\u001b[0;34m\u001b[0m\u001b[0;34m\u001b[0m\u001b[0m\n\u001b[1;32m   1994\u001b[0m         \u001b[0mreduction\u001b[0m \u001b[0;34m=\u001b[0m \u001b[0m_Reduction\u001b[0m\u001b[0;34m.\u001b[0m\u001b[0mlegacy_get_string\u001b[0m\u001b[0;34m(\u001b[0m\u001b[0msize_average\u001b[0m\u001b[0;34m,\u001b[0m \u001b[0mreduce\u001b[0m\u001b[0;34m)\u001b[0m\u001b[0;34m\u001b[0m\u001b[0;34m\u001b[0m\u001b[0m\n\u001b[0;32m-> 1995\u001b[0;31m     \u001b[0;32mreturn\u001b[0m \u001b[0mnll_loss\u001b[0m\u001b[0;34m(\u001b[0m\u001b[0mlog_softmax\u001b[0m\u001b[0;34m(\u001b[0m\u001b[0minput\u001b[0m\u001b[0;34m,\u001b[0m \u001b[0;36m1\u001b[0m\u001b[0;34m)\u001b[0m\u001b[0;34m,\u001b[0m \u001b[0mtarget\u001b[0m\u001b[0;34m,\u001b[0m \u001b[0mweight\u001b[0m\u001b[0;34m,\u001b[0m \u001b[0;32mNone\u001b[0m\u001b[0;34m,\u001b[0m \u001b[0mignore_index\u001b[0m\u001b[0;34m,\u001b[0m \u001b[0;32mNone\u001b[0m\u001b[0;34m,\u001b[0m \u001b[0mreduction\u001b[0m\u001b[0;34m)\u001b[0m\u001b[0;34m\u001b[0m\u001b[0;34m\u001b[0m\u001b[0m\n\u001b[0m\u001b[1;32m   1996\u001b[0m \u001b[0;34m\u001b[0m\u001b[0m\n\u001b[1;32m   1997\u001b[0m \u001b[0;34m\u001b[0m\u001b[0m\n",
      "\u001b[0;32m~/apex/amp/wrap.py\u001b[0m in \u001b[0;36mwrapper\u001b[0;34m(*args, **kwargs)\u001b[0m\n\u001b[1;32m     26\u001b[0m                                      \u001b[0margs\u001b[0m\u001b[0;34m,\u001b[0m\u001b[0;34m\u001b[0m\u001b[0;34m\u001b[0m\u001b[0m\n\u001b[1;32m     27\u001b[0m                                      kwargs)\n\u001b[0;32m---> 28\u001b[0;31m         \u001b[0;32mreturn\u001b[0m \u001b[0morig_fn\u001b[0m\u001b[0;34m(\u001b[0m\u001b[0;34m*\u001b[0m\u001b[0mnew_args\u001b[0m\u001b[0;34m,\u001b[0m \u001b[0;34m**\u001b[0m\u001b[0mkwargs\u001b[0m\u001b[0;34m)\u001b[0m\u001b[0;34m\u001b[0m\u001b[0;34m\u001b[0m\u001b[0m\n\u001b[0m\u001b[1;32m     29\u001b[0m     \u001b[0;32mreturn\u001b[0m \u001b[0mwrapper\u001b[0m\u001b[0;34m\u001b[0m\u001b[0;34m\u001b[0m\u001b[0m\n\u001b[1;32m     30\u001b[0m \u001b[0;34m\u001b[0m\u001b[0m\n",
      "\u001b[0;32m/srv/conda/envs/saturn/lib/python3.7/site-packages/torch/nn/functional.py\u001b[0m in \u001b[0;36mlog_softmax\u001b[0;34m(input, dim, _stacklevel, dtype)\u001b[0m\n\u001b[1;32m   1314\u001b[0m         \u001b[0mdim\u001b[0m \u001b[0;34m=\u001b[0m \u001b[0m_get_softmax_dim\u001b[0m\u001b[0;34m(\u001b[0m\u001b[0;34m'log_softmax'\u001b[0m\u001b[0;34m,\u001b[0m \u001b[0minput\u001b[0m\u001b[0;34m.\u001b[0m\u001b[0mdim\u001b[0m\u001b[0;34m(\u001b[0m\u001b[0;34m)\u001b[0m\u001b[0;34m,\u001b[0m \u001b[0m_stacklevel\u001b[0m\u001b[0;34m)\u001b[0m\u001b[0;34m\u001b[0m\u001b[0;34m\u001b[0m\u001b[0m\n\u001b[1;32m   1315\u001b[0m     \u001b[0;32mif\u001b[0m \u001b[0mdtype\u001b[0m \u001b[0;32mis\u001b[0m \u001b[0;32mNone\u001b[0m\u001b[0;34m:\u001b[0m\u001b[0;34m\u001b[0m\u001b[0;34m\u001b[0m\u001b[0m\n\u001b[0;32m-> 1316\u001b[0;31m         \u001b[0mret\u001b[0m \u001b[0;34m=\u001b[0m \u001b[0minput\u001b[0m\u001b[0;34m.\u001b[0m\u001b[0mlog_softmax\u001b[0m\u001b[0;34m(\u001b[0m\u001b[0mdim\u001b[0m\u001b[0;34m)\u001b[0m\u001b[0;34m\u001b[0m\u001b[0;34m\u001b[0m\u001b[0m\n\u001b[0m\u001b[1;32m   1317\u001b[0m     \u001b[0;32melse\u001b[0m\u001b[0;34m:\u001b[0m\u001b[0;34m\u001b[0m\u001b[0;34m\u001b[0m\u001b[0m\n\u001b[1;32m   1318\u001b[0m         \u001b[0mret\u001b[0m \u001b[0;34m=\u001b[0m \u001b[0minput\u001b[0m\u001b[0;34m.\u001b[0m\u001b[0mlog_softmax\u001b[0m\u001b[0;34m(\u001b[0m\u001b[0mdim\u001b[0m\u001b[0;34m,\u001b[0m \u001b[0mdtype\u001b[0m\u001b[0;34m=\u001b[0m\u001b[0mdtype\u001b[0m\u001b[0;34m)\u001b[0m\u001b[0;34m\u001b[0m\u001b[0;34m\u001b[0m\u001b[0m\n",
      "\u001b[0;31mRuntimeError\u001b[0m: CUDA out of memory. Tried to allocate 4.30 GiB (GPU 0; 14.73 GiB total capacity; 9.73 GiB already allocated; 3.95 GiB free; 200.93 MiB cached)"
     ]
    }
   ],
   "source": [
    "model.eval_model()"
   ]
  },
  {
   "cell_type": "code",
   "execution_count": null,
   "metadata": {},
   "outputs": [],
   "source": [
    "#memory footprint support libraries/code\n",
    "!ln -sf /opt/bin/nvidia-smi /usr/bin/nvidia-smi\n",
    "!pip install gputil\n",
    "!pip install psutil\n",
    "!pip install humanize\n",
    "import psutil\n",
    "import humanize\n",
    "import os\n",
    "import GPUtil as GPU\n",
    "GPUs = GPU.getGPUs()\n",
    "# XXX: only one GPU on Colab and isn’t guaranteed\n",
    "gpu = GPUs[0]\n",
    "def printm():\n",
    " process = psutil.Process(os.getpid())\n",
    " print(\"Gen RAM Free: \" + humanize.naturalsize( psutil.virtual_memory().available ), \" | Proc size: \" + humanize.naturalsize( process.memory_info().rss))\n",
    " print(\"GPU RAM Free: {0:.0f}MB | Used: {1:.0f}MB | Util {2:3.0f}% | Total {3:.0f}MB\".format(gpu.memoryFree, gpu.memoryUsed, gpu.memoryUtil*100, gpu.memoryTotal))\n",
    "printm() "
   ]
  },
  {
   "cell_type": "code",
   "execution_count": null,
   "metadata": {},
   "outputs": [],
   "source": [
    "!kill -9 -1"
   ]
  }
 ],
 "metadata": {
  "kernelspec": {
   "display_name": "Python 3",
   "language": "python",
   "name": "python3"
  },
  "language_info": {
   "codemirror_mode": {
    "name": "ipython",
    "version": 3
   },
   "file_extension": ".py",
   "mimetype": "text/x-python",
   "name": "python",
   "nbconvert_exporter": "python",
   "pygments_lexer": "ipython3",
   "version": "3.7.6"
  }
 },
 "nbformat": 4,
 "nbformat_minor": 4
}
